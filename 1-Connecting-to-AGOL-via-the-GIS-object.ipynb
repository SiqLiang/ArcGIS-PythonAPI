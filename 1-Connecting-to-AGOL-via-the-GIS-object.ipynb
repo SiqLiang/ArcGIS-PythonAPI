{
 "cells": [
  {
   "cell_type": "markdown",
   "metadata": {},
   "source": [
    "# Connecting to ArcGIS Online via the GIS Object\n",
    "The ArcGIS Python API's `GIS` object is our connection to ArcGIS online (and its bounty of online data). Just as we can open a web browser to `https://arcgis.com` and search for data, we can do so via this GIS object, as we'll see shortly. \n",
    "\n",
    "However, some resources are shared with specific AGOL organizations, groups, and users. So, to access those, we need a means of passing our credentials when we connect to ArcGIS Online. That can be easy or tricky, depending on how you've installed the ArcGIS Python API and whether your AGOL account is set up...\n",
    "\n",
    "Resource:\n",
    "* Guide: https://developers.arcgis.com/python/guide/using-the-gis/\n",
    "* Reference: https://developers.arcgis.com/python/api-reference/arcgis.gis.toc.html#gis"
   ]
  },
  {
   "cell_type": "markdown",
   "metadata": {},
   "source": [
    "### Connecting anonymously\n",
    "The easiest way to connect is anonymously. But in doing so, we can't access any restricted datasets."
   ]
  },
  {
   "cell_type": "code",
   "execution_count": 1,
   "metadata": {},
   "outputs": [],
   "source": [
    "#Import the GIS object\n",
    "from arcgis import GIS"
   ]
  },
  {
   "cell_type": "code",
   "execution_count": 2,
   "metadata": {},
   "outputs": [],
   "source": [
    "#Connect to AGOL by creating an instance of the GIS object\n",
    "anon_gis = GIS()"
   ]
  },
  {
   "cell_type": "code",
   "execution_count": 3,
   "metadata": {},
   "outputs": [
    {
     "data": {
      "text/plain": [
       "arcgis.gis.GIS"
      ]
     },
     "execution_count": 3,
     "metadata": {},
     "output_type": "execute_result"
    }
   ],
   "source": [
    "#Show the type of object created\n",
    "type(anon_gis)"
   ]
  },
  {
   "cell_type": "code",
   "execution_count": 4,
   "metadata": {},
   "outputs": [
    {
     "data": {
      "text/plain": [
       "'https://www.arcgis.com'"
      ]
     },
     "execution_count": 4,
     "metadata": {},
     "output_type": "execute_result"
    }
   ],
   "source": [
    "#Show the default address linked to the anonymous user\n",
    "anon_gis.url"
   ]
  },
  {
   "cell_type": "markdown",
   "metadata": {},
   "source": [
    "### Connecting via your ArcGIS Pro credentials\n",
    "If you are using the Python environment linked to your ArcGIS Pro installation, you can authenticate your GIS object with the credentials used when you logged into ArcGIS online. So if the code below fails, check that:\n",
    "* You are using the default ArcGIS Pro environment (`arcgispro-py3`) or one cloned from that environment, and;\n",
    "* You have successfully logged into ArcGIS Pro on that machine and selected \"remember my login credentials\". "
   ]
  },
  {
   "cell_type": "code",
   "execution_count": 5,
   "metadata": {},
   "outputs": [
    {
     "ename": "RuntimeError",
     "evalue": "Unexpected exception when authenticating through 'home' mode: Environment variable 'NB_AUTH_FILE' must be defined.\n-----\nYou can still connect to your portal by creating a GIS() object with the standard user/password, cert_file, etc. See https://bit.ly/2DT1156 for more information.",
     "output_type": "error",
     "traceback": [
      "\u001b[1;31m---------------------------------------------------------------------------\u001b[0m",
      "\u001b[1;31mRuntimeError\u001b[0m                              Traceback (most recent call last)",
      "\u001b[1;32mC:\\Program Files\\ArcGIS\\Pro\\bin\\Python\\envs\\arcgispro-py3\\lib\\site-packages\\arcgis\\gis\\__init__.py\u001b[0m in \u001b[0;36m_try_configure_for_hosted_nb\u001b[1;34m(self)\u001b[0m\n\u001b[0;32m    614\u001b[0m             \u001b[1;32mif\u001b[0m \u001b[1;32mnot\u001b[0m \u001b[0mnb_auth_file_path\u001b[0m\u001b[1;33m:\u001b[0m\u001b[1;33m\u001b[0m\u001b[0m\n\u001b[1;32m--> 615\u001b[1;33m                 raise RuntimeError(\"Environment variable 'NB_AUTH_FILE' \"\\\n\u001b[0m\u001b[0;32m    616\u001b[0m                                    \"must be defined.\")\n",
      "\u001b[1;31mRuntimeError\u001b[0m: Environment variable 'NB_AUTH_FILE' must be defined.",
      "\nDuring handling of the above exception, another exception occurred:\n",
      "\u001b[1;31mRuntimeError\u001b[0m                              Traceback (most recent call last)",
      "\u001b[1;32m<ipython-input-5-5f26298a1f53>\u001b[0m in \u001b[0;36m<module>\u001b[1;34m()\u001b[0m\n\u001b[0;32m      1\u001b[0m \u001b[1;31m#Connect to AGOL via your ArcGIS Pro credentials\u001b[0m\u001b[1;33m\u001b[0m\u001b[1;33m\u001b[0m\u001b[0m\n\u001b[1;32m----> 2\u001b[1;33m \u001b[0mgis\u001b[0m \u001b[1;33m=\u001b[0m \u001b[0mGIS\u001b[0m\u001b[1;33m(\u001b[0m\u001b[1;34m'home'\u001b[0m\u001b[1;33m)\u001b[0m \u001b[1;31m#GIS('pro') also works\u001b[0m\u001b[1;33m\u001b[0m\u001b[0m\n\u001b[0m",
      "\u001b[1;32mC:\\Program Files\\ArcGIS\\Pro\\bin\\Python\\envs\\arcgispro-py3\\lib\\site-packages\\arcgis\\gis\\__init__.py\u001b[0m in \u001b[0;36m__init__\u001b[1;34m(self, url, username, password, key_file, cert_file, verify_cert, set_active, client_id, profile, **kwargs)\u001b[0m\n\u001b[0;32m    308\u001b[0m         \u001b[1;32mif\u001b[0m \u001b[0mself\u001b[0m\u001b[1;33m.\u001b[0m\u001b[0m_url\u001b[0m\u001b[1;33m.\u001b[0m\u001b[0mlower\u001b[0m\u001b[1;33m(\u001b[0m\u001b[1;33m)\u001b[0m \u001b[1;33m==\u001b[0m \u001b[1;34m\"home\"\u001b[0m\u001b[1;33m:\u001b[0m\u001b[1;33m\u001b[0m\u001b[0m\n\u001b[0;32m    309\u001b[0m             \u001b[1;31m#configuring for hosted notebooks need to happen before portalpy\u001b[0m\u001b[1;33m\u001b[0m\u001b[1;33m\u001b[0m\u001b[0m\n\u001b[1;32m--> 310\u001b[1;33m             \u001b[0mself\u001b[0m\u001b[1;33m.\u001b[0m\u001b[0m_try_configure_for_hosted_nb\u001b[0m\u001b[1;33m(\u001b[0m\u001b[1;33m)\u001b[0m\u001b[1;33m\u001b[0m\u001b[0m\n\u001b[0m\u001b[0;32m    311\u001b[0m \u001b[1;33m\u001b[0m\u001b[0m\n\u001b[0;32m    312\u001b[0m         \u001b[1;32mtry\u001b[0m\u001b[1;33m:\u001b[0m\u001b[1;33m\u001b[0m\u001b[0m\n",
      "\u001b[1;32mC:\\Program Files\\ArcGIS\\Pro\\bin\\Python\\envs\\arcgispro-py3\\lib\\site-packages\\arcgis\\gis\\__init__.py\u001b[0m in \u001b[0;36m_try_configure_for_hosted_nb\u001b[1;34m(self)\u001b[0m\n\u001b[0;32m    638\u001b[0m         \u001b[1;32mexcept\u001b[0m \u001b[0mException\u001b[0m \u001b[1;32mas\u001b[0m \u001b[0me\u001b[0m\u001b[1;33m:\u001b[0m\u001b[1;33m\u001b[0m\u001b[0m\n\u001b[0;32m    639\u001b[0m             self._raise_hosted_nb_error(\"Unexpected exception when authenticating \"\\\n\u001b[1;32m--> 640\u001b[1;33m                                         \"through 'home' mode: {}\".format(e))\n\u001b[0m\u001b[0;32m    641\u001b[0m \u001b[1;33m\u001b[0m\u001b[0m\n\u001b[0;32m    642\u001b[0m     \u001b[1;32mdef\u001b[0m \u001b[0m_raise_hosted_nb_error\u001b[0m\u001b[1;33m(\u001b[0m\u001b[0mself\u001b[0m\u001b[1;33m,\u001b[0m \u001b[0merr_msg\u001b[0m\u001b[1;33m)\u001b[0m\u001b[1;33m:\u001b[0m\u001b[1;33m\u001b[0m\u001b[0m\n",
      "\u001b[1;32mC:\\Program Files\\ArcGIS\\Pro\\bin\\Python\\envs\\arcgispro-py3\\lib\\site-packages\\arcgis\\gis\\__init__.py\u001b[0m in \u001b[0;36m_raise_hosted_nb_error\u001b[1;34m(self, err_msg)\u001b[0m\n\u001b[0;32m    648\u001b[0m             \u001b[1;34m\"a GIS() object with the standard user/password, cert_file, etc. \"\u001b[0m\u001b[0;31m\\\u001b[0m\u001b[1;33m\u001b[0m\u001b[0m\n\u001b[0;32m    649\u001b[0m             \u001b[1;34m\"See https://bit.ly/2DT1156 for more information.\"\u001b[0m\u001b[1;33m\u001b[0m\u001b[0m\n\u001b[1;32m--> 650\u001b[1;33m         \u001b[1;32mraise\u001b[0m \u001b[0mRuntimeError\u001b[0m\u001b[1;33m(\u001b[0m\u001b[1;34m\"{}\\n-----\\n{}\"\u001b[0m\u001b[1;33m.\u001b[0m\u001b[0mformat\u001b[0m\u001b[1;33m(\u001b[0m\u001b[0merr_msg\u001b[0m\u001b[1;33m,\u001b[0m \u001b[0mmitigation_msg\u001b[0m\u001b[1;33m)\u001b[0m\u001b[1;33m)\u001b[0m\u001b[1;33m\u001b[0m\u001b[0m\n\u001b[0m\u001b[0;32m    651\u001b[0m \u001b[1;33m\u001b[0m\u001b[0m\n\u001b[0;32m    652\u001b[0m     \u001b[1;32mdef\u001b[0m \u001b[0m_uri_validator\u001b[0m\u001b[1;33m(\u001b[0m\u001b[0mself\u001b[0m\u001b[1;33m,\u001b[0m \u001b[0mx\u001b[0m\u001b[1;33m)\u001b[0m\u001b[1;33m:\u001b[0m\u001b[1;33m\u001b[0m\u001b[0m\n",
      "\u001b[1;31mRuntimeError\u001b[0m: Unexpected exception when authenticating through 'home' mode: Environment variable 'NB_AUTH_FILE' must be defined.\n-----\nYou can still connect to your portal by creating a GIS() object with the standard user/password, cert_file, etc. See https://bit.ly/2DT1156 for more information."
     ]
    }
   ],
   "source": [
    "#Connect to AGOL via your ArcGIS Pro credentials\n",
    "gis = GIS('home') #GIS('pro') also works"
   ]
  },
  {
   "cell_type": "code",
   "execution_count": 6,
   "metadata": {},
   "outputs": [
    {
     "ename": "NameError",
     "evalue": "name 'gis' is not defined",
     "output_type": "error",
     "traceback": [
      "\u001b[1;31m---------------------------------------------------------------------------\u001b[0m",
      "\u001b[1;31mNameError\u001b[0m                                 Traceback (most recent call last)",
      "\u001b[1;32m<ipython-input-6-619635226233>\u001b[0m in \u001b[0;36m<module>\u001b[1;34m()\u001b[0m\n\u001b[0;32m      1\u001b[0m \u001b[1;31m#Show your user info\u001b[0m\u001b[1;33m\u001b[0m\u001b[1;33m\u001b[0m\u001b[0m\n\u001b[1;32m----> 2\u001b[1;33m \u001b[0mgis\u001b[0m\u001b[1;33m.\u001b[0m\u001b[0musers\u001b[0m\u001b[1;33m.\u001b[0m\u001b[0mme\u001b[0m\u001b[1;33m\u001b[0m\u001b[0m\n\u001b[0m",
      "\u001b[1;31mNameError\u001b[0m: name 'gis' is not defined"
     ]
    }
   ],
   "source": [
    "#Show your user info\n",
    "gis.users.me"
   ]
  },
  {
   "cell_type": "code",
   "execution_count": 7,
   "metadata": {},
   "outputs": [
    {
     "ename": "NameError",
     "evalue": "name 'gis' is not defined",
     "output_type": "error",
     "traceback": [
      "\u001b[1;31m---------------------------------------------------------------------------\u001b[0m",
      "\u001b[1;31mNameError\u001b[0m                                 Traceback (most recent call last)",
      "\u001b[1;32m<ipython-input-7-9fc68aed0890>\u001b[0m in \u001b[0;36m<module>\u001b[1;34m()\u001b[0m\n\u001b[0;32m      1\u001b[0m \u001b[1;31m#Show your default url\u001b[0m\u001b[1;33m\u001b[0m\u001b[1;33m\u001b[0m\u001b[0m\n\u001b[1;32m----> 2\u001b[1;33m \u001b[0mgis\u001b[0m\u001b[1;33m.\u001b[0m\u001b[0murl\u001b[0m\u001b[1;33m\u001b[0m\u001b[0m\n\u001b[0m",
      "\u001b[1;31mNameError\u001b[0m: name 'gis' is not defined"
     ]
    }
   ],
   "source": [
    "#Show your default url\n",
    "gis.url"
   ]
  },
  {
   "cell_type": "markdown",
   "metadata": {},
   "source": [
    "This means of creating the `gis` object has the benefit of allowing us to access any dataset shared with you directly, with any groups to which you belong, or with the organization or enterprise that sponsors your account. We'll see how that works later..."
   ]
  },
  {
   "cell_type": "markdown",
   "metadata": {},
   "source": [
    "### Connecting via passed in credentials\n",
    "The ESRI documentation gives examples where you can directly pass in usernames and passwords.(See [here](https://developers.arcgis.com/python/guide/using-the-gis/).) This straightforward process can be useful if you need to access data shared with you, but you are not using an environment linked to ArcGIS Pro. \n",
    "\n",
    "*However*, because we log into AGOL via our Duke accounts, this approach won't work. Instead, there is a more complex process requiring me to set up a gateway for you to have access via your Duke NetID. I won't got into the gory detail ([here](https://developers.arcgis.com/python/guide/working-with-different-authentication-schemes/) if you are curious...), but instead just provide the code needed to access AGOL using this method.\n",
    "\n",
    "When you run this code, a web browser will appear asking you to log in via Duke credentials. ***Note: always check the URL of the page asking for your Duke credentials: it should contain 'https://shib.oit.duke.edu' in it***. After you log in, you'll be granted a *token* to copy and paste in the notebook. You may also get a warning about \"certificate verification\", which we at Duke are looking into; but it won't be a problem for now."
   ]
  },
  {
   "cell_type": "code",
   "execution_count": null,
   "metadata": {},
   "outputs": [],
   "source": [
    "#Connect to AGOL via OAuth Credentials\n",
    "gis_oauth = GIS('https://dukeuniv.maps.arcgis.com',client_id = 'YmtqqKYoHULH1M2l')\n",
    "print('Successfully logged in as :'+gis.properties.user.username)"
   ]
  },
  {
   "cell_type": "code",
   "execution_count": null,
   "metadata": {},
   "outputs": [],
   "source": [
    "#Show your user info\n",
    "gis_oauth.users.me"
   ]
  },
  {
   "cell_type": "code",
   "execution_count": null,
   "metadata": {},
   "outputs": [],
   "source": [
    "#Show your default url\n",
    "gis_oauth.url"
   ]
  },
  {
   "cell_type": "markdown",
   "metadata": {},
   "source": [
    "## Summary\n",
    "The first step in working with the ArcGIS Python API is making the connection to ArcGIS Online. Here we see different ways to do this. Typically, if you can, you'd connect using `gis('pro')` if you could, as that'd connect you to your personal AGOL resources. However, sometimes you just don't need to and so an anonymous connection is just fine. \n",
    "\n",
    "In the next notebooks, we'll see what we can do once connected..."
   ]
  }
 ],
 "metadata": {
  "kernelspec": {
   "display_name": "Python 3",
   "language": "python",
   "name": "python3"
  },
  "language_info": {
   "codemirror_mode": {
    "name": "ipython",
    "version": 3
   },
   "file_extension": ".py",
   "mimetype": "text/x-python",
   "name": "python",
   "nbconvert_exporter": "python",
   "pygments_lexer": "ipython3",
   "version": "3.6.6"
  }
 },
 "nbformat": 4,
 "nbformat_minor": 4
}
